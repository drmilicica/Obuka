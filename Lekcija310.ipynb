{
 "cells": [
  {
   "cell_type": "markdown",
   "metadata": {},
   "source": [
    "# 3.10. Vizuelna prezentacija sveske"
   ]
  },
  {
   "cell_type": "markdown",
   "metadata": {},
   "source": [
    "### Zadatak\n",
    "Pomoću *Markdown* jezika otkucaj tekst kao na narednoj slici. Na željena mesta umetni slike naših velikana. Na označena mesta umetni potrebne linkove."
   ]
  },
  {
   "cell_type": "markdown",
   "metadata": {},
   "source": [
    "[Nikola Tesla muzej](https://nikolateslamuseum.org/)"
   ]
  },
  {
   "cell_type": "markdown",
   "metadata": {},
   "source": [
    "![Slika01](https://i.imgur.com/uV86f0h.png)"
   ]
  },
  {
   "cell_type": "markdown",
   "metadata": {},
   "source": [
    "![Slika02](https://i.imgur.com/CO8lsY0.png)"
   ]
  }
 ],
 "metadata": {
  "kernelspec": {
   "display_name": "Python 3 (ipykernel)",
   "language": "python",
   "name": "python3"
  },
  "language_info": {
   "codemirror_mode": {
    "name": "ipython",
    "version": 3
   },
   "file_extension": ".py",
   "mimetype": "text/x-python",
   "name": "python",
   "nbconvert_exporter": "python",
   "pygments_lexer": "ipython3",
   "version": "3.9.13"
  }
 },
 "nbformat": 4,
 "nbformat_minor": 2
}
